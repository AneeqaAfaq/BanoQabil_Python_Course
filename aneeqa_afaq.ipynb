{
  "cells": [
    {
      "cell_type": "markdown",
      "metadata": {
        "id": "view-in-github",
        "colab_type": "text"
      },
      "source": [
        "<a href=\"https://colab.research.google.com/github/AneeqaAfaq/BanoQabil_Python_Course/blob/main/aneeqa_afaq.ipynb\" target=\"_parent\"><img src=\"https://colab.research.google.com/assets/colab-badge.svg\" alt=\"Open In Colab\"/></a>"
      ]
    },
    {
      "cell_type": "code",
      "execution_count": null,
      "metadata": {
        "colab": {
          "base_uri": "https://localhost:8080/"
        },
        "id": "HHzsyWtkMmwC",
        "outputId": "19c13883-0915-48d4-929f-a4f7eba21e61"
      },
      "outputs": [
        {
          "name": "stdout",
          "output_type": "stream",
          "text": [
            "9\n"
          ]
        }
      ],
      "source": [
        "num1 = 4\n",
        "num2 = 5\n",
        "print(num1 + num2)\n",
        "\n"
      ]
    },
    {
      "cell_type": "code",
      "source": [
        "message = \"aneeqa,\"\n",
        "message += \"World!\"\n",
        "print(message)"
      ],
      "metadata": {
        "colab": {
          "base_uri": "https://localhost:8080/"
        },
        "id": "2fgk9_cvSfSi",
        "outputId": "9c489e0c-7031-4329-a248-839bf0cf5372"
      },
      "execution_count": null,
      "outputs": [
        {
          "output_type": "stream",
          "name": "stdout",
          "text": [
            "aneeqa,World!\n"
          ]
        }
      ]
    },
    {
      "cell_type": "code",
      "execution_count": null,
      "metadata": {
        "colab": {
          "base_uri": "https://localhost:8080/"
        },
        "id": "LszIDYQ9Nnxj",
        "outputId": "21a47c45-9fb6-4e79-e6d1-5e794ce60019"
      },
      "outputs": [
        {
          "output_type": "stream",
          "name": "stdout",
          "text": [
            "Python is considered fun!\n"
          ]
        }
      ],
      "source": [
        "is_python_fun = True\n",
        "if is_python_fun:\n",
        "   print(\"Python is considered fun!\")\n",
        "else:\n",
        "  print(\"Python might not be everone's idea of fun.\")\n"
      ]
    },
    {
      "cell_type": "code",
      "execution_count": null,
      "metadata": {
        "colab": {
          "background_save": true,
          "base_uri": "https://localhost:8080/"
        },
        "id": "BzMTHb9jPk86",
        "outputId": "3c7e5287-bcbe-424e-b3ac-6e03fe09c89c"
      },
      "outputs": [
        {
          "name": "stdout",
          "output_type": "stream",
          "text": [
            "Original list of fruits: ['apple', 'banana', 'kiwi']\n",
            "Updated list of fruits: ['apple', 'banana', 'kiwi', 'Grapes']\n"
          ]
        }
      ],
      "source": [
        "fruits =['apple','banana','kiwi']\n",
        "print(\"Original list of fruits:\" ,fruits)\n",
        "fruits.append(\"Grapes\")\n",
        "print(\"Updated list of fruits:\",fruits)"
      ]
    },
    {
      "cell_type": "code",
      "execution_count": null,
      "metadata": {
        "id": "JBlPJ4FDROpn",
        "colab": {
          "base_uri": "https://localhost:8080/"
        },
        "outputId": "0351a1e4-f183-4bca-e91e-9857ceae1281"
      },
      "outputs": [
        {
          "output_type": "stream",
          "name": "stdout",
          "text": [
            "Original Price: 5.5\n",
            "Converted Price (Integer): 5\n"
          ]
        }
      ],
      "source": [
        "price = 5.5\n",
        "price_int = int(price)\n",
        "print(\"Original Price:\", price)\n",
        "print(\"Converted Price (Integer):\", price_int)"
      ]
    },
    {
      "cell_type": "code",
      "source": [
        "student_info = {\n",
        "    'name':'aneeqa',\n",
        "    'age': '20',\n",
        "    'grade':'A'\n",
        "}\n",
        "print(student_info)\n"
      ],
      "metadata": {
        "id": "EQqQTmlhCD0P",
        "colab": {
          "base_uri": "https://localhost:8080/"
        },
        "outputId": "65f84360-9954-4627-da50-5cd919f62212"
      },
      "execution_count": null,
      "outputs": [
        {
          "output_type": "stream",
          "name": "stdout",
          "text": [
            "{'name': 'aneeqa', 'age': '20', 'grade': 'A'}\n"
          ]
        }
      ]
    },
    {
      "cell_type": "code",
      "source": [
        "user_age = int(input(\"Enter your age: \"))\n",
        "if 13 <= user_age <= 19:\n",
        " print(\"You are a teenager.\")\n",
        "elif 20 <= user_age <= 59:\n",
        " print(\"You are an adult.\")\n",
        "else:\n",
        "  print(\"You are in a different age group.\")"
      ],
      "metadata": {
        "id": "wfK5WC7lDyiE",
        "colab": {
          "base_uri": "https://localhost:8080/"
        },
        "outputId": "6b34cd25-a1d7-43e6-8a84-c5f9ef7dc00d"
      },
      "execution_count": null,
      "outputs": [
        {
          "output_type": "stream",
          "name": "stdout",
          "text": [
            "Enter your age: 17\n",
            "You are a teenager.\n"
          ]
        }
      ]
    },
    {
      "cell_type": "code",
      "source": [
        "comp_num = complex(3, 4)\n",
        "print(\"Real Part:\" , comp_num.real)\n",
        "print(\"Imaginary Part:\", comp_num.imag)"
      ],
      "metadata": {
        "colab": {
          "base_uri": "https://localhost:8080/"
        },
        "id": "P9OyAS5SNMA5",
        "outputId": "23426ba2-d1b6-421c-c091-5e4332a23162"
      },
      "execution_count": null,
      "outputs": [
        {
          "output_type": "stream",
          "name": "stdout",
          "text": [
            "Real Part: 3.0\n",
            "Imaginary Part: 4.0\n"
          ]
        }
      ]
    },
    {
      "cell_type": "code",
      "source": [
        "str1 = \"aneeqa\"\n",
        "str2 = \"afaq\"\n",
        "concatenated_str = str1 + str2\n",
        "result_message = f\"The concatenated string is: {concatenated_str}. Its length is: {len(concatenated_str)}\"\n",
        "print(result_message)"
      ],
      "metadata": {
        "colab": {
          "base_uri": "https://localhost:8080/"
        },
        "id": "kUrZOen2OkNP",
        "outputId": "c03b9624-ab3f-4d31-a42a-7488ad07a3af"
      },
      "execution_count": null,
      "outputs": [
        {
          "output_type": "stream",
          "name": "stdout",
          "text": [
            "The concatenated string is: aneeqaafaq. Its length is: 10\n"
          ]
        }
      ]
    },
    {
      "cell_type": "code",
      "source": [
        "days_of_week = ('Monday','Tuesday','Wednesday','Thursday','Friday','Saturday','Sunday')\n",
        "third_day = days_of_week[2]\n",
        "print(\"The third day of the week is:\", third_day)"
      ],
      "metadata": {
        "colab": {
          "base_uri": "https://localhost:8080/"
        },
        "id": "eL9ZQ88KQjK0",
        "outputId": "5b81e7f4-d9af-4171-b3c4-5489a0a14f21"
      },
      "execution_count": null,
      "outputs": [
        {
          "output_type": "stream",
          "name": "stdout",
          "text": [
            "The third day of the week is: Wednesday\n"
          ]
        }
      ]
    },
    {
      "cell_type": "code",
      "source": [],
      "metadata": {
        "id": "NvaGjxx2TIcB"
      },
      "execution_count": null,
      "outputs": []
    }
  ],
  "metadata": {
    "colab": {
      "provenance": [],
      "authorship_tag": "ABX9TyOa0OZvKiUEa3QG8/98uh7W",
      "include_colab_link": true
    },
    "kernelspec": {
      "display_name": "Python 3",
      "name": "python3"
    },
    "language_info": {
      "name": "python"
    }
  },
  "nbformat": 4,
  "nbformat_minor": 0
}